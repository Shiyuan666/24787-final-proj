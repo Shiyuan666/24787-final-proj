{
 "cells": [
  {
   "cell_type": "code",
   "execution_count": 25,
   "id": "b328b79e",
   "metadata": {},
   "outputs": [],
   "source": [
    "def eigendecomp(X):\n",
    "    \n",
    "    mean = np.mean(X, axis = 0)\n",
    "    var = np.var(X, axis = 0)\n",
    "    res = (X - mean) / np.sqrt(var)\n",
    "    \n",
    "    m = X.shape[0]\n",
    "    cov = 1 / (m - 1) * np.dot(X.T, X)\n",
    "    evals, evecs = np.linalg.eig(cov)\n",
    "    idx = np.argsort(evals)[::-1]\n",
    "    sorted_eig_vals = evals[idx]\n",
    "    sorted_eig_vecs = evecs[:,idx]\n",
    "\n",
    "    return sorted_eig_vals, sorted_eig_vecs"
   ]
  },
  {
   "cell_type": "code",
   "execution_count": 20,
   "id": "24aa9c9e",
   "metadata": {},
   "outputs": [],
   "source": [
    "import numpy as np\n",
    "from sklearn.model_selection import train_test_split\n",
    "import pandas as pd\n",
    "\n",
    "# read the original data file and split it into data and labels\n",
    "df = pd.read_csv(\"Cleaned-Data.csv\", header=0).drop([\"Country\"], axis=1)\n",
    "labels = df.filter([\"Severity_Mild\", \"Severity_Moderate\",\n",
    "                   \"Severity_None\", \"Severity_Severe\"], axis=1)\n",
    "data = df.drop(labels, axis=1)\n",
    "# data = data.drop(['Gender_Female', 'Gender_Male','Gender_Transgender', 'Contact_Dont-Know', 'Contact_No', 'Contact_Yes','None_Sympton', 'Pains', 'None_Experiencing'], axis=1)\n",
    "# change the labels to 0, 1, 2, 3 from the original\n",
    "classes = []\n",
    "for i in range(labels.shape[0]):\n",
    "    mild = labels.iloc[i][\"Severity_Mild\"]\n",
    "    moderate = labels.iloc[i][\"Severity_Moderate\"]\n",
    "    healthy = labels.iloc[i][\"Severity_None\"]\n",
    "    severe = labels.iloc[i][\"Severity_Severe\"]\n",
    "    if mild == 1 and moderate == 0 and healthy == 0 and severe == 0:\n",
    "        classes.append(1)\n",
    "    if mild == 0 and moderate == 1 and healthy == 0 and severe == 0:\n",
    "        classes.append(2)\n",
    "    if mild == 0 and moderate == 0 and healthy == 1 and severe == 0:\n",
    "        classes.append(0)\n",
    "    if mild == 0 and moderate == 0 and healthy == 0 and severe == 1:\n",
    "        classes.append(3)\n",
    "        \n",
    "classes = pd.DataFrame({\"class\": classes})\n",
    "_, sorted_eig_vecs = eigendecomp(data)\n",
    "new_data = np.dot(data, sorted_eig_vecs[:,:15])\n",
    "result = pd.concat([pd.DataFrame(new_data), classes], axis=1)\n",
    "\n",
    "# split data into train and test. We choose 20% as test and 80% as train\n",
    "train, test = train_test_split(result, test_size=0.2, shuffle=True)"
   ]
  },
  {
   "cell_type": "code",
   "execution_count": 38,
   "id": "787af775",
   "metadata": {},
   "outputs": [],
   "source": [
    "if __name__ == '__main__':\n",
    "    \n",
    "    train.to_csv(\"train.csv\", index=False)\n",
    "    test.to_csv(\"test.csv\", index=False)"
   ]
  },
  {
   "cell_type": "code",
   "execution_count": 28,
   "id": "00ab6957",
   "metadata": {},
   "outputs": [
    {
     "data": {
      "text/plain": [
       "(316800, 15)"
      ]
     },
     "execution_count": 28,
     "metadata": {},
     "output_type": "execute_result"
    }
   ],
   "source": [
    "new_data.shape"
   ]
  },
  {
   "cell_type": "code",
   "execution_count": null,
   "id": "47239375",
   "metadata": {},
   "outputs": [],
   "source": []
  }
 ],
 "metadata": {
  "kernelspec": {
   "display_name": "Python 3",
   "language": "python",
   "name": "python3"
  },
  "language_info": {
   "codemirror_mode": {
    "name": "ipython",
    "version": 3
   },
   "file_extension": ".py",
   "mimetype": "text/x-python",
   "name": "python",
   "nbconvert_exporter": "python",
   "pygments_lexer": "ipython3",
   "version": "3.8.2"
  }
 },
 "nbformat": 4,
 "nbformat_minor": 5
}
