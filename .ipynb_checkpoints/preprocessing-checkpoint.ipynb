{
 "cells": [
  {
   "cell_type": "code",
   "execution_count": 1,
   "id": "34f32440",
   "metadata": {},
   "outputs": [],
   "source": [
    "def eigendecomp(X):\n",
    "    \n",
    "    mean = np.mean(X, axis = 0)\n",
    "    var = np.var(X, axis = 0)\n",
    "    res = (X - mean) / np.sqrt(var)\n",
    "    \n",
    "    m = X.shape[0]\n",
    "    cov = 1 / (m - 1) * np.dot(X.T, X)\n",
    "    evals, evecs = np.linalg.eig(cov)\n",
    "    idx = np.argsort(evals)[::-1]\n",
    "    sorted_eig_vals = evals[idx]\n",
    "    sorted_eig_vecs = evecs[:,idx]\n",
    "\n",
    "    return sorted_eig_vals, sorted_eig_vecs"
   ]
  },
  {
   "cell_type": "code",
   "execution_count": 2,
   "id": "24aa9c9e",
   "metadata": {},
   "outputs": [],
   "source": [
    "import numpy as np\n",
    "import matplotlib.pyplot as plt \n",
    "from sklearn.model_selection import train_test_split\n",
    "import pandas as pd\n",
    "\n",
    "# read the original data file and split it into data and labels\n",
    "df = pd.read_csv(\"Cleaned-Data.csv\", header=0).drop([\"Country\"], axis=1)\n",
    "labels = df.filter([\"Severity_Mild\", \"Severity_Moderate\",\n",
    "                   \"Severity_None\", \"Severity_Severe\"], axis=1)\n",
    "data = df.drop(labels, axis=1)\n",
    "data = data.drop(['Gender_Female', 'Gender_Male','Gender_Transgender', 'Contact_Dont-Know', 'Contact_No', \n",
    "                  'Contact_Yes','None_Sympton', 'None_Experiencing', 'Age_0-9', 'Age_10-19',\n",
    "                  'Age_20-24', 'Age_25-59', 'Age_60+'], axis=1)\n",
    "# change the labels to 0, 1, 2, 3 from the original\n",
    "classes = []\n",
    "for i in range(labels.shape[0]):\n",
    "    mild = labels.iloc[i][\"Severity_Mild\"]\n",
    "    moderate = labels.iloc[i][\"Severity_Moderate\"]\n",
    "    healthy = labels.iloc[i][\"Severity_None\"]\n",
    "    severe = labels.iloc[i][\"Severity_Severe\"]\n",
    "    if mild == 1 and moderate == 0 and healthy == 0 and severe == 0:\n",
    "        classes.append(1)\n",
    "    if mild == 0 and moderate == 1 and healthy == 0 and severe == 0:\n",
    "        classes.append(1)\n",
    "    if mild == 0 and moderate == 0 and healthy == 1 and severe == 0:\n",
    "        classes.append(0)\n",
    "    if mild == 0 and moderate == 0 and healthy == 0 and severe == 1:\n",
    "        classes.append(1)\n",
    "\n",
    "classes = pd.DataFrame({\"class\": classes})"
   ]
  },
  {
   "cell_type": "code",
   "execution_count": 3,
   "id": "3c5acb47",
   "metadata": {},
   "outputs": [],
   "source": [
    "_, sorted_eig_vecs = eigendecomp(data)\n",
    "new_data = np.dot(data, sorted_eig_vecs[:,:15])\n",
    "\n",
    "result = pd.concat([pd.DataFrame(new_data), classes], axis=1)\n",
    "# split data into train and test. We choose 20% as test and 80% as train\n",
    "train, test = train_test_split(result, test_size=0.2, shuffle=True)"
   ]
  },
  {
   "cell_type": "code",
   "execution_count": 4,
   "id": "af2dc72d",
   "metadata": {},
   "outputs": [
    {
     "data": {
      "text/plain": [
       "<matplotlib.legend.Legend at 0x7fc6121454f0>"
      ]
     },
     "execution_count": 4,
     "metadata": {},
     "output_type": "execute_result"
    },
    {
     "data": {
      "image/png": "[encoded data removed]",
      "text/plain": [
       "<Figure size 432x288 with 1 Axes>"
      ]
     },
     "metadata": {
      "needs_background": "light"
     },
     "output_type": "display_data"
    }
   ],
   "source": [
    "# visualize \n",
    "label = np.array(train['class'])\n",
    "t1 = np.array(train[0]).reshape(-1, 1)\n",
    "t2 = np.array(train[1]).reshape(-1, 1)\n",
    "new = np.hstack((t1, t2))\n",
    "\n",
    "plt.figure()\n",
    "plt.plot(new[label == 0][:,0], new[label == 0][:,1], linestyle='', marker='o', label = 'label:0', c='r')\n",
    "plt.plot(new[label == 1][:,0], new[label == 1][:,1], linestyle='', marker='*', label = 'label:1', c='g')\n",
    "plt.legend()"
   ]
  },
  {
   "cell_type": "code",
   "execution_count": 5,
   "id": "22fbccbc",
   "metadata": {},
   "outputs": [
    {
     "name": "stdout",
     "output_type": "stream",
     "text": [
      "(63459,)\n",
      "(189981,)\n"
     ]
    }
   ],
   "source": [
    "print(new[label == 0][:,0].shape)\n",
    "print(new[label == 1][:,0].shape)"
   ]
  }
 ],
 "metadata": {
  "kernelspec": {
   "display_name": "Python 3",
   "language": "python",
   "name": "python3"
  },
  "language_info": {
   "codemirror_mode": {
    "name": "ipython",
    "version": 3
   },
   "file_extension": ".py",
   "mimetype": "text/x-python",
   "name": "python",
   "nbconvert_exporter": "python",
   "pygments_lexer": "ipython3",
   "version": "3.8.2"
  }
 },
 "nbformat": 4,
 "nbformat_minor": 5
}
