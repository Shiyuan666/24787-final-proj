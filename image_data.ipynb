{
 "cells": [
  {
   "cell_type": "code",
   "execution_count": 15,
   "metadata": {
    "id": "giufhIkbgTgH"
   },
   "outputs": [],
   "source": [
    "import os\n",
    "import cv2\n",
    "import random \n",
    "import numpy as np\n",
    "import pandas as pd\n",
    "import seaborn as sn\n",
    "import matplotlib.pyplot as plt\n",
    "from cvxopt import matrix, solvers\n",
    "from sklearn.metrics import confusion_matrix\n",
    "from sklearn.metrics import accuracy_score\n",
    "from sklearn.metrics.pairwise import rbf_kernel\n",
    "from sklearn.metrics.pairwise import linear_kernel\n",
    "import torch\n",
    "import torch.nn as nn\n",
    "import torchvision\n",
    "from torchvision import datasets, transforms, models\n",
    "import torch.nn.functional as F\n",
    "from torch.utils.data import *\n",
    "from tqdm import tqdm \n",
    "import warnings "
   ]
  },
  {
   "cell_type": "code",
   "execution_count": 2,
   "metadata": {
    "colab": {
     "base_uri": "https://localhost:8080/"
    },
    "id": "IXiFge9Hkjga",
    "outputId": "91777062-a0f4-4f30-af70-4867fbd66f60"
   },
   "outputs": [
    {
     "name": "stdout",
     "output_type": "stream",
     "text": [
      "Mounted at /content/drive\n"
     ]
    }
   ],
   "source": [
    "from google.colab import drive\n",
    "drive.mount('/content/drive')"
   ]
  },
  {
   "cell_type": "markdown",
   "metadata": {
    "id": "6SuGE7Qe97pM"
   },
   "source": [
    "VGG Network "
   ]
  },
  {
   "cell_type": "code",
   "execution_count": 3,
   "metadata": {
    "colab": {
     "base_uri": "https://localhost:8080/"
    },
    "id": "yW_tHw56kj0b",
    "outputId": "589342a2-83e5-4f5c-eaf8-8e75262763dc"
   },
   "outputs": [
    {
     "name": "stdout",
     "output_type": "stream",
     "text": [
      "**************************************************\n",
      "CUDA is found! Tranining on Tesla P100-PCIE-16GB.......\n"
     ]
    }
   ],
   "source": [
    "# check pytorch cuda and use cuda if possible\n",
    "device = torch.cuda.is_available()\n",
    "print('*' * 50)\n",
    "if torch.cuda.is_available():\n",
    "    print('CUDA is found! Tranining on %s.......'%torch.cuda.get_device_name(0))\n",
    "else:\n",
    "    warnings.warn('CUDA not found! Training may be slow......')"
   ]
  },
  {
   "cell_type": "code",
   "execution_count": 16,
   "metadata": {
    "id": "wwP8va9Xnjvg"
   },
   "outputs": [],
   "source": [
    "path = '/content/drive/My Drive/Covid19-dataset'\n",
    "\n",
    "train_transform = transforms.Compose([\n",
    "    transforms.Resize(size=(224, 224)),\n",
    "    transforms.RandomHorizontalFlip(),\n",
    "    transforms.ToTensor(),\n",
    "    transforms.Normalize(mean=[0.485, 0.456, 0.406], std=[0.229, 0.224, 0.225])\n",
    "])\n",
    "test_transform = transforms.Compose([\n",
    "    transforms.Resize(size=(224, 224)),\n",
    "    transforms.ToTensor(),\n",
    "    transforms.Normalize([0.485, 0.456, 0.406], [0.229, 0.224, 0.225])\n",
    "])\n",
    "\n",
    "train_data = datasets.ImageFolder(path + '/train', train_transform)\n",
    "test_data = datasets.ImageFolder(path + '/test', test_transform)\n",
    "\n",
    "classes = train_data.classes"
   ]
  },
  {
   "cell_type": "code",
   "execution_count": null,
   "metadata": {
    "colab": {
     "base_uri": "https://localhost:8080/",
     "height": 334
    },
    "id": "QZyr3EV257_c",
    "outputId": "45fe58b0-1cd0-4bc2-f0ef-cce0e8c940e0"
   },
   "outputs": [
    {
     "name": "stdout",
     "output_type": "stream",
     "text": [
      "Classes: ['Covid', 'Normal', 'Viral Pneumonia'] \n",
      "Training samples: 251\n",
      "Counts: {'Covid': 111, 'Normal': 70, 'Viral Pneumonia': 70}\n"
     ]
    },
    {
     "data": {
      "text/plain": [
       "<BarContainer object of 3 artists>"
      ]
     },
     "execution_count": 5,
     "metadata": {},
     "output_type": "execute_result"
    },
    {
     "data": {
      "image/png": "[encoded data removed]",
      "text/plain": [
       "<Figure size 432x288 with 1 Axes>"
      ]
     },
     "metadata": {
      "needs_background": "light"
     },
     "output_type": "display_data"
    }
   ],
   "source": [
    "classes_count = { c:0 for c in classes}\n",
    "for _, label in train_data:\n",
    "    classes_count[classes[label]] +=1\n",
    "\n",
    "print(f'Classes: {classes} ')\n",
    "print(f'Training samples: {len(train_data)}')\n",
    "print(f'Counts: {classes_count}')\n",
    "plt.bar(classes_count.keys(), classes_count.values(), alpha=0.3 )"
   ]
  },
  {
   "cell_type": "code",
   "execution_count": null,
   "metadata": {
    "colab": {
     "base_uri": "https://localhost:8080/",
     "height": 334
    },
    "id": "AQ_C2oPEtIsd",
    "outputId": "0345e158-6247-467d-f788-c927d7247ffc"
   },
   "outputs": [
    {
     "name": "stdout",
     "output_type": "stream",
     "text": [
      "Classes: ['Covid', 'Normal', 'Viral Pneumonia']\n",
      "Testing samples: 66\n",
      "Counts: {'Covid': 26, 'Normal': 20, 'Viral Pneumonia': 20}\n"
     ]
    },
    {
     "data": {
      "text/plain": [
       "<BarContainer object of 3 artists>"
      ]
     },
     "execution_count": 6,
     "metadata": {},
     "output_type": "execute_result"
    },
    {
     "data": {
      "image/png": "[encoded data removed]",
      "text/plain": [
       "<Figure size 432x288 with 1 Axes>"
      ]
     },
     "metadata": {
      "needs_background": "light"
     },
     "output_type": "display_data"
    }
   ],
   "source": [
    "classes_count_test = { c:0 for c in classes}\n",
    "for _, label in test_data:\n",
    "    classes_count_test[classes[label]] +=1\n",
    "\n",
    "print(f'Classes: {classes}')\n",
    "print(f'Testing samples: {len(test_data)}')\n",
    "print(f'Counts: {classes_count_test}')\n",
    "plt.bar(classes_count_test.keys(), classes_count_test.values(), alpha=0.3 )"
   ]
  },
  {
   "cell_type": "code",
   "execution_count": null,
   "metadata": {
    "id": "7OCNt3Bc8i5c"
   },
   "outputs": [],
   "source": [
    "batch_size = 10\n",
    "train_loader = DataLoader(train_data, batch_size=batch_size, shuffle=True)\n",
    "test_loader = DataLoader(test_data, batch_size=batch_size, shuffle=True)"
   ]
  },
  {
   "cell_type": "code",
   "execution_count": null,
   "metadata": {
    "colab": {
     "base_uri": "https://localhost:8080/",
     "height": 144
    },
    "id": "lZ8ieCiRJqWd",
    "outputId": "12b05fc1-2ca7-4f40-c720-b75f81dbab26"
   },
   "outputs": [
    {
     "name": "stdout",
     "output_type": "stream",
     "text": [
      "torch.Size([10, 3, 224, 224])\n",
      "Samples from the training data: \n"
     ]
    },
    {
     "data": {
      "image/png": "[encoded data removed]",
      "text/plain": [
       "<Figure size 576x288 with 5 Axes>"
      ]
     },
     "metadata": {},
     "output_type": "display_data"
    }
   ],
   "source": [
    "images, labels = next(iter(train_loader))\n",
    "print(images.shape)\n",
    "print(\"Samples from the training data: \")\n",
    "\n",
    "plt.figure(figsize=(8, 4))\n",
    "for i, image in enumerate(images):\n",
    "    plt.subplot(1, 6, i + 1, xticks=[], yticks=[])\n",
    "    image = image.numpy().transpose((1, 2, 0))\n",
    "    mean = np.array([0.485, 0.456, 0.406])\n",
    "    std = np.array([0.229, 0.224, 0.225])\n",
    "    image = image * std + mean\n",
    "    image = np.clip(image, 0., 1.)\n",
    "    plt.imshow(image)\n",
    "    plt.xlabel(classes[int(labels[i].numpy())])\n",
    "    if(i == 4):\n",
    "        break"
   ]
  },
  {
   "cell_type": "code",
   "execution_count": null,
   "metadata": {
    "id": "1lohMsfJPLzy"
   },
   "outputs": [],
   "source": [
    "class VGGNet(nn.Module):\n",
    "    def __init__ (self):\n",
    "        super(VGGNet,self).__init__()\n",
    "\n",
    "        self.conv1_1 = nn.Conv2d(in_channels=3, out_channels=64, kernel_size=3, padding=1, stride=1)\n",
    "\n",
    "        self.conv2_1 = nn.Conv2d(in_channels=64, out_channels=128, kernel_size=3, padding=1, stride=1)\n",
    "\n",
    "        self.conv3_1 = nn.Conv2d(in_channels=128, out_channels=256, kernel_size=3, padding=1, stride=1)\n",
    "\n",
    "        self.conv4_1 = nn.Conv2d(in_channels=256, out_channels=512, kernel_size=3, padding=1, stride=1)\n",
    "        self.conv4_2 = nn.Conv2d(in_channels=512, out_channels=512, kernel_size=3, padding=1, stride=1)\n",
    "        self.conv4_3 = nn.Conv2d(in_channels=512, out_channels=512, kernel_size=3, padding=1, stride=1)\n",
    "\n",
    "        self.maxpool = nn.MaxPool2d(kernel_size=2, stride=2)\n",
    "\n",
    "        self.fc1 = nn.Linear(4608, 1024)\n",
    "        self.fc2 = nn.Linear(1024, 1024)\n",
    "        self.fc3 = nn.Linear(1024, 3)\n",
    "\n",
    "    def forward(self , x):\n",
    "               \n",
    "        x = F.relu(self.conv1_1(x))\n",
    "        x = self.maxpool(x)\n",
    "        x = F.relu(self.conv2_1(x))\n",
    "        x = self.maxpool(x)\n",
    "        x = F.relu(self.conv3_1(x))\n",
    "        x = self.maxpool(x)\n",
    "        x = F.relu(self.conv4_1(x))\n",
    "        x = self.maxpool(x)\n",
    "        x = F.relu(self.conv4_2(x))\n",
    "        x = self.maxpool(x)\n",
    "        x = F.relu(self.conv4_3(x))\n",
    "        x = self.maxpool(x)\n",
    "        x = x.reshape(x.shape[0], -1)\n",
    "        \n",
    "        x = F.relu(self.fc1(x))\n",
    "        x = F.relu(self.fc2(x))\n",
    "        x = self.fc3(x)\n",
    "\n",
    "        return x"
   ]
  },
  {
   "cell_type": "code",
   "execution_count": null,
   "metadata": {
    "id": "mANKb2a5KidS"
   },
   "outputs": [],
   "source": [
    "device = \"cuda\" if torch.cuda.is_available() else \"cpu\"\n",
    "model = VGGNet()\n",
    "model.to(device)\n",
    "\n",
    "error = nn.CrossEntropyLoss()\n",
    "learning_rate = 0.000008\n",
    "optimizer = torch.optim.Adam(model.parameters(), lr=learning_rate)\n",
    "num_epochs = 20"
   ]
  },
  {
   "cell_type": "code",
   "execution_count": null,
   "metadata": {
    "colab": {
     "base_uri": "https://localhost:8080/"
    },
    "id": "U_9uE759GHjP",
    "outputId": "53b1447a-f9b9-4b04-b8ad-74f9cf9d9e2f"
   },
   "outputs": [
    {
     "name": "stdout",
     "output_type": "stream",
     "text": [
      "VGGNet(\n",
      "  (conv1_1): Conv2d(3, 64, kernel_size=(3, 3), stride=(1, 1), padding=(1, 1))\n",
      "  (conv2_1): Conv2d(64, 128, kernel_size=(3, 3), stride=(1, 1), padding=(1, 1))\n",
      "  (conv3_1): Conv2d(128, 256, kernel_size=(3, 3), stride=(1, 1), padding=(1, 1))\n",
      "  (conv4_1): Conv2d(256, 512, kernel_size=(3, 3), stride=(1, 1), padding=(1, 1))\n",
      "  (conv4_2): Conv2d(512, 512, kernel_size=(3, 3), stride=(1, 1), padding=(1, 1))\n",
      "  (conv4_3): Conv2d(512, 512, kernel_size=(3, 3), stride=(1, 1), padding=(1, 1))\n",
      "  (maxpool): MaxPool2d(kernel_size=2, stride=2, padding=0, dilation=1, ceil_mode=False)\n",
      "  (fc1): Linear(in_features=4608, out_features=1024, bias=True)\n",
      "  (fc2): Linear(in_features=1024, out_features=1024, bias=True)\n",
      "  (fc3): Linear(in_features=1024, out_features=3, bias=True)\n",
      ")\n"
     ]
    }
   ],
   "source": [
    "print(model)"
   ]
  },
  {
   "cell_type": "code",
   "execution_count": null,
   "metadata": {
    "id": "lTX9yb-sPiJp"
   },
   "outputs": [],
   "source": [
    "def train(model, loader):\n",
    "    \n",
    "    model.train()\n",
    "    epoch_loss = 0\n",
    "\n",
    "    for i, (images, labels) in enumerate(train_loader):\n",
    "\n",
    "        images, labels = images.to(device), labels.to(device)\n",
    "        optimizer.zero_grad()\n",
    "        outputs = model(images)\n",
    "        loss = error(outputs, labels)\n",
    "        loss.backward()\n",
    "        optimizer.step()\n",
    "        epoch_loss += loss.item()\n",
    "        \n",
    "    return epoch_loss / (i + 1)"
   ]
  },
  {
   "cell_type": "code",
   "execution_count": null,
   "metadata": {
    "id": "2opSfc3WPk3c"
   },
   "outputs": [],
   "source": [
    "def evaluate(model, loader):\n",
    "    \n",
    "    model.eval()\n",
    "    epoch_loss = 0\n",
    "    correct = 0\n",
    "    total = 0\n",
    "    #with torch.no_grad():\n",
    "    for i, (images, labels) in enumerate(loader):\n",
    "        images, labels = images.to(device), labels.to(device)\n",
    "\n",
    "        outputs = model(images)\n",
    "        loss = error(outputs, labels)\n",
    "        epoch_loss += loss.data\n",
    "        predicted = torch.argmax(outputs, 1)\n",
    "        total += len(labels)\n",
    "        correct += (predicted == labels).sum()\n",
    "\n",
    "    accuracy = 100 * correct / float(total)\n",
    "\n",
    "    return epoch_loss / (i + 1), accuracy"
   ]
  },
  {
   "cell_type": "code",
   "execution_count": null,
   "metadata": {
    "colab": {
     "base_uri": "https://localhost:8080/"
    },
    "id": "xKGp0Dm2SQll",
    "outputId": "d9730188-5456-490d-901e-8926bbf7d210"
   },
   "outputs": [
    {
     "name": "stderr",
     "output_type": "stream",
     "text": [
      "  5%|▌         | 1/20 [00:15<04:51, 15.33s/it]"
     ]
    },
    {
     "name": "stdout",
     "output_type": "stream",
     "text": [
      "Epoch: 1\n",
      "\tTrain Loss: 1.093\n",
      "\tTest Loss: 1.094\n",
      "\tTest accuracy: 39.3939\n"
     ]
    },
    {
     "name": "stderr",
     "output_type": "stream",
     "text": [
      "\r",
      " 10%|█         | 2/20 [00:30<04:35, 15.29s/it]"
     ]
    },
    {
     "name": "stdout",
     "output_type": "stream",
     "text": [
      "Epoch: 2\n",
      "\tTrain Loss: 1.086\n",
      "\tTest Loss: 1.086\n",
      "\tTest accuracy: 39.3939\n"
     ]
    },
    {
     "name": "stderr",
     "output_type": "stream",
     "text": [
      "\r",
      " 15%|█▌        | 3/20 [00:45<04:19, 15.25s/it]"
     ]
    },
    {
     "name": "stdout",
     "output_type": "stream",
     "text": [
      "Epoch: 3\n",
      "\tTrain Loss: 1.067\n",
      "\tTest Loss: 1.051\n",
      "\tTest accuracy: 51.5152\n"
     ]
    },
    {
     "name": "stderr",
     "output_type": "stream",
     "text": [
      "\r",
      " 20%|██        | 4/20 [01:01<04:04, 15.30s/it]"
     ]
    },
    {
     "name": "stdout",
     "output_type": "stream",
     "text": [
      "Epoch: 4\n",
      "\tTrain Loss: 0.939\n",
      "\tTest Loss: 0.819\n",
      "\tTest accuracy: 72.7273\n"
     ]
    },
    {
     "name": "stderr",
     "output_type": "stream",
     "text": [
      "\r",
      " 25%|██▌       | 5/20 [01:16<03:49, 15.30s/it]"
     ]
    },
    {
     "name": "stdout",
     "output_type": "stream",
     "text": [
      "Epoch: 5\n",
      "\tTrain Loss: 0.553\n",
      "\tTest Loss: 0.586\n",
      "\tTest accuracy: 71.2121\n"
     ]
    },
    {
     "name": "stderr",
     "output_type": "stream",
     "text": [
      "\r",
      " 30%|███       | 6/20 [01:31<03:33, 15.25s/it]"
     ]
    },
    {
     "name": "stdout",
     "output_type": "stream",
     "text": [
      "Epoch: 6\n",
      "\tTrain Loss: 0.353\n",
      "\tTest Loss: 0.597\n",
      "\tTest accuracy: 74.2424\n"
     ]
    },
    {
     "name": "stderr",
     "output_type": "stream",
     "text": [
      "\r",
      " 35%|███▌      | 7/20 [01:46<03:18, 15.24s/it]"
     ]
    },
    {
     "name": "stdout",
     "output_type": "stream",
     "text": [
      "Epoch: 7\n",
      "\tTrain Loss: 0.319\n",
      "\tTest Loss: 0.466\n",
      "\tTest accuracy: 78.7879\n"
     ]
    },
    {
     "name": "stderr",
     "output_type": "stream",
     "text": [
      "\r",
      " 40%|████      | 8/20 [02:02<03:02, 15.23s/it]"
     ]
    },
    {
     "name": "stdout",
     "output_type": "stream",
     "text": [
      "Epoch: 8\n",
      "\tTrain Loss: 0.246\n",
      "\tTest Loss: 0.448\n",
      "\tTest accuracy: 81.8182\n"
     ]
    },
    {
     "name": "stderr",
     "output_type": "stream",
     "text": [
      "\r",
      " 45%|████▌     | 9/20 [02:17<02:47, 15.25s/it]"
     ]
    },
    {
     "name": "stdout",
     "output_type": "stream",
     "text": [
      "Epoch: 9\n",
      "\tTrain Loss: 0.241\n",
      "\tTest Loss: 0.491\n",
      "\tTest accuracy: 77.2727\n"
     ]
    },
    {
     "name": "stderr",
     "output_type": "stream",
     "text": [
      "\r",
      " 50%|█████     | 10/20 [02:32<02:32, 15.22s/it]"
     ]
    },
    {
     "name": "stdout",
     "output_type": "stream",
     "text": [
      "Epoch: 10\n",
      "\tTrain Loss: 0.244\n",
      "\tTest Loss: 0.385\n",
      "\tTest accuracy: 83.3333\n"
     ]
    },
    {
     "name": "stderr",
     "output_type": "stream",
     "text": [
      "\r",
      " 55%|█████▌    | 11/20 [02:47<02:16, 15.21s/it]"
     ]
    },
    {
     "name": "stdout",
     "output_type": "stream",
     "text": [
      "Epoch: 11\n",
      "\tTrain Loss: 0.254\n",
      "\tTest Loss: 0.455\n",
      "\tTest accuracy: 78.7879\n"
     ]
    },
    {
     "name": "stderr",
     "output_type": "stream",
     "text": [
      "\r",
      " 60%|██████    | 12/20 [03:02<02:01, 15.22s/it]"
     ]
    },
    {
     "name": "stdout",
     "output_type": "stream",
     "text": [
      "Epoch: 12\n",
      "\tTrain Loss: 0.275\n",
      "\tTest Loss: 0.505\n",
      "\tTest accuracy: 78.7879\n"
     ]
    },
    {
     "name": "stderr",
     "output_type": "stream",
     "text": [
      "\r",
      " 65%|██████▌   | 13/20 [03:18<01:46, 15.24s/it]"
     ]
    },
    {
     "name": "stdout",
     "output_type": "stream",
     "text": [
      "Epoch: 13\n",
      "\tTrain Loss: 0.223\n",
      "\tTest Loss: 0.410\n",
      "\tTest accuracy: 84.8485\n"
     ]
    },
    {
     "name": "stderr",
     "output_type": "stream",
     "text": [
      "\r",
      " 70%|███████   | 14/20 [03:33<01:31, 15.26s/it]"
     ]
    },
    {
     "name": "stdout",
     "output_type": "stream",
     "text": [
      "Epoch: 14\n",
      "\tTrain Loss: 0.209\n",
      "\tTest Loss: 0.391\n",
      "\tTest accuracy: 84.8485\n"
     ]
    },
    {
     "name": "stderr",
     "output_type": "stream",
     "text": [
      "\r",
      " 75%|███████▌  | 15/20 [03:48<01:16, 15.26s/it]"
     ]
    },
    {
     "name": "stdout",
     "output_type": "stream",
     "text": [
      "Epoch: 15\n",
      "\tTrain Loss: 0.217\n",
      "\tTest Loss: 0.461\n",
      "\tTest accuracy: 89.3939\n"
     ]
    },
    {
     "name": "stderr",
     "output_type": "stream",
     "text": [
      "\r",
      " 80%|████████  | 16/20 [04:04<01:01, 15.26s/it]"
     ]
    },
    {
     "name": "stdout",
     "output_type": "stream",
     "text": [
      "Epoch: 16\n",
      "\tTrain Loss: 0.231\n",
      "\tTest Loss: 0.500\n",
      "\tTest accuracy: 83.3333\n"
     ]
    },
    {
     "name": "stderr",
     "output_type": "stream",
     "text": [
      "\r",
      " 85%|████████▌ | 17/20 [04:19<00:45, 15.26s/it]"
     ]
    },
    {
     "name": "stdout",
     "output_type": "stream",
     "text": [
      "Epoch: 17\n",
      "\tTrain Loss: 0.166\n",
      "\tTest Loss: 0.378\n",
      "\tTest accuracy: 87.8788\n"
     ]
    },
    {
     "name": "stderr",
     "output_type": "stream",
     "text": [
      "\r",
      " 90%|█████████ | 18/20 [04:34<00:30, 15.26s/it]"
     ]
    },
    {
     "name": "stdout",
     "output_type": "stream",
     "text": [
      "Epoch: 18\n",
      "\tTrain Loss: 0.158\n",
      "\tTest Loss: 0.373\n",
      "\tTest accuracy: 83.3333\n"
     ]
    },
    {
     "name": "stderr",
     "output_type": "stream",
     "text": [
      "\r",
      " 95%|█████████▌| 19/20 [04:49<00:15, 15.27s/it]"
     ]
    },
    {
     "name": "stdout",
     "output_type": "stream",
     "text": [
      "Epoch: 19\n",
      "\tTrain Loss: 0.165\n",
      "\tTest Loss: 0.503\n",
      "\tTest accuracy: 81.8182\n"
     ]
    },
    {
     "name": "stderr",
     "output_type": "stream",
     "text": [
      "100%|██████████| 20/20 [05:05<00:00, 15.26s/it]"
     ]
    },
    {
     "name": "stdout",
     "output_type": "stream",
     "text": [
      "Epoch: 20\n",
      "\tTrain Loss: 0.155\n",
      "\tTest Loss: 0.364\n",
      "\tTest accuracy: 86.3636\n"
     ]
    },
    {
     "name": "stderr",
     "output_type": "stream",
     "text": [
      "\n"
     ]
    }
   ],
   "source": [
    "loss_train = []\n",
    "accuracy_list = []\n",
    "epoch_list = []\n",
    "\n",
    "for epoch in tqdm(range(num_epochs)):\n",
    "    \n",
    "    train_loss = train(model, train_loader)\n",
    "    test_loss, accuracy = evaluate(model, test_loader)\n",
    "    \n",
    "    loss_train.append(train_loss)\n",
    "    accuracy_list.append(accuracy)\n",
    "    epoch_list.append(epoch)\n",
    "\n",
    "    print(f'Epoch: {epoch + 1}')\n",
    "    print(f'\\tTrain Loss: {train_loss:.3f}')\n",
    "    print(f'\\tTest Loss: {test_loss:.3f}')\n",
    "    print(f'\\tTest accuracy: {accuracy:.4f}')"
   ]
  },
  {
   "cell_type": "code",
   "execution_count": null,
   "metadata": {
    "colab": {
     "base_uri": "https://localhost:8080/",
     "height": 573
    },
    "id": "_-8Vug1EkkpB",
    "outputId": "f72a6921-f747-4db7-8bb4-9e0fd5579ab1"
   },
   "outputs": [
    {
     "data": {
      "image/png": "[encoded data removed]",
      "text/plain": [
       "<Figure size 432x288 with 1 Axes>"
      ]
     },
     "metadata": {
      "needs_background": "light"
     },
     "output_type": "display_data"
    },
    {
     "data": {
      "image/png": "[encoded data removed]",
      "text/plain": [
       "<Figure size 432x288 with 1 Axes>"
      ]
     },
     "metadata": {
      "needs_background": "light"
     },
     "output_type": "display_data"
    }
   ],
   "source": [
    "plt.plot(epoch_list, loss_train)\n",
    "plt.xlabel(\"Number of epochs\")\n",
    "plt.ylabel(\"Train loss\")\n",
    "plt.title(\"Train Loss vs Number of epochs\")\n",
    "plt.show()\n",
    "\n",
    "plt.plot(epoch_list, accuracy_list, color = \"red\")\n",
    "plt.xlabel(\"Number of epochs\")\n",
    "plt.ylabel(\"Accuracy\")\n",
    "plt.title(\"Accuracy vs Number of epochs\")\n",
    "plt.show()"
   ]
  },
  {
   "cell_type": "code",
   "execution_count": null,
   "metadata": {
    "id": "-CpmkI_jq16A"
   },
   "outputs": [],
   "source": [
    "predict_list = torch.tensor([]).to(device)\n",
    "test_labels_list = torch.tensor([]).to(device)\n",
    "\n",
    "for i, (images, labels) in enumerate(test_loader):\n",
    "    images, labels = images.to(device), labels.to(device)\n",
    "    outputs = model(images)\n",
    "    preds = torch.argmax(outputs, 1)\n",
    "\n",
    "    predict_list = torch.cat((predict_list, preds), dim=-1)\n",
    "    test_labels_list = torch.cat((test_labels_list, labels), dim=-1)\n",
    "\n",
    "predict_list = predict_list.cpu().numpy()\n",
    "test_labels_list = test_labels_list.cpu().numpy()"
   ]
  },
  {
   "cell_type": "code",
   "execution_count": null,
   "metadata": {
    "colab": {
     "base_uri": "https://localhost:8080/",
     "height": 463
    },
    "id": "IYDcoL9gy9pX",
    "outputId": "599fb9ac-95a9-4468-85a0-da862ad8cddd"
   },
   "outputs": [
    {
     "name": "stdout",
     "output_type": "stream",
     "text": [
      "Test accuracy:  0.8636363636363636\n"
     ]
    },
    {
     "data": {
      "text/plain": [
       "<matplotlib.axes._subplots.AxesSubplot at 0x7f53fc54e110>"
      ]
     },
     "execution_count": 15,
     "metadata": {},
     "output_type": "execute_result"
    },
    {
     "data": {
      "image/png": "[encoded data removed]",
      "text/plain": [
       "<Figure size 720x504 with 2 Axes>"
      ]
     },
     "metadata": {
      "needs_background": "light"
     },
     "output_type": "display_data"
    }
   ],
   "source": [
    "print(\"Test accuracy: \", accuracy_score(predict_list, test_labels_list))\n",
    "\n",
    "cmt = confusion_matrix(test_labels_list, predict_list)\n",
    "df_cmt = pd.DataFrame(cmt, index = [i for i in train_data.classes], columns = [j for j in train_data.classes])\n",
    "plt.figure(figsize = (10,7))\n",
    "sn.heatmap(df_cmt, annot=True, cmap=\"YlGnBu\")"
   ]
  },
  {
   "cell_type": "markdown",
   "metadata": {
    "id": "2CAbUlgM_J-X"
   },
   "source": [
    "SVM "
   ]
  },
  {
   "cell_type": "code",
   "execution_count": 17,
   "metadata": {
    "id": "JgjCj9iRzXHJ"
   },
   "outputs": [],
   "source": [
    "path_train = path + '/train'\n",
    "path_test = path + '/test'"
   ]
  },
  {
   "cell_type": "code",
   "execution_count": 18,
   "metadata": {
    "id": "WotGOU54OntL"
   },
   "outputs": [],
   "source": [
    "training_data = []\n",
    "training_label = []\n",
    "\n",
    "testing_data = []\n",
    "testing_label = []\n",
    "img_size = 224\n",
    "\n",
    "for class_ in classes:\n",
    "    train_path = os.path.join(path_train, class_)\n",
    "    class_label = classes.index(class_)\n",
    "    for img in os.listdir(train_path):\n",
    "        img_array = cv2.imread(os.path.join(train_path, img))\n",
    "        new_array = cv2.resize(img_array,(img_size, img_size))\n",
    "        training_data.append(new_array)\n",
    "        training_label.append(class_label)\n",
    "\n",
    "for class_ in classes:\n",
    "    test_path = os.path.join(path_test, class_)\n",
    "    class_label = classes.index(class_)\n",
    "    for img in os.listdir(test_path):\n",
    "        img_array = cv2.imread(os.path.join(test_path, img))\n",
    "        new_array = cv2.resize(img_array,(img_size, img_size))\n",
    "        testing_data.append(new_array)\n",
    "        testing_label.append(class_label)"
   ]
  },
  {
   "cell_type": "code",
   "execution_count": 19,
   "metadata": {
    "id": "f4UnYCABO-lI"
   },
   "outputs": [],
   "source": [
    "X_train = np.array(training_data).reshape(len(training_data), -1)\n",
    "y_train = np.array(training_label)\n",
    "\n",
    "X_test = np.array(testing_data).reshape(len(testing_data), -1)\n",
    "y_test = np.array(testing_label)"
   ]
  },
  {
   "cell_type": "code",
   "execution_count": 20,
   "metadata": {
    "id": "VIk0egc-dLeV"
   },
   "outputs": [],
   "source": [
    "def train_svm(X, y, kernel, C = 10):\n",
    "\n",
    "    m, n = X.shape\n",
    "    y = y.reshape(-1,1) * 1.\n",
    "    if kernel == 'rbf':\n",
    "        K = rbf_kernel(X, gamma = 10)\n",
    "        H = y * K \n",
    "        H = H * y.T\n",
    "    else:\n",
    "        K = linear_kernel(X)\n",
    "        H = y * K \n",
    "        H = H * y.T\n",
    "    P = matrix(H)\n",
    "    q = matrix(-np.ones((m, 1)))\n",
    "    G = matrix(np.vstack((np.eye(m)*-1, np.eye(m))))\n",
    "    h = matrix(np.hstack((np.zeros(m), np.ones(m) * C)))\n",
    "    A = matrix(y.reshape(1, -1))\n",
    "    b = matrix(np.zeros(1))\n",
    "    \n",
    "    solvers.options['show_progress'] = False\n",
    "    #solvers.options['abstol'] = 1e-10\n",
    "    #solvers.options['reltol'] = 1e-10\n",
    "    #solvers.options['feastol'] = 1e-10\n",
    "    return solvers.qp(P, q, G, h, A, b)\n",
    "\n",
    "def get_parameters(X, y, alphas):\n",
    "\n",
    "    y = y.reshape(-1,1)\n",
    "    threshold = 1e-12 # Values greater than zero (some floating point tolerance)\n",
    "    w = ((y * alphas).T @ X).reshape(-1,1)\n",
    "    S = (alphas > threshold).flatten()\n",
    "    b = y[S] - np.dot(X[S], w)\n",
    "\n",
    "    return w, b[0]"
   ]
  },
  {
   "cell_type": "code",
   "execution_count": 21,
   "metadata": {
    "id": "j0JHr_fLAFIu"
   },
   "outputs": [],
   "source": [
    "y_train_1 = []\n",
    "y_train_2 = []\n",
    "y_train_3 = []\n",
    "for i in range(y_train.shape[0]):\n",
    "    if y_train[i] == 0:\n",
    "        y_train_1.append(1)\n",
    "    else:\n",
    "        y_train_1.append(-1)\n",
    "y_train_1 = np.array(y_train_1)\n",
    "\n",
    "for i in range(y_train.shape[0]):\n",
    "    if y_train[i] == 1:\n",
    "        y_train_2.append(1)\n",
    "    else:\n",
    "        y_train_2.append(-1)\n",
    "y_train_2 = np.array(y_train_2)\n",
    "\n",
    "for i in range(y_train.shape[0]):\n",
    "    if y_train[i] == 2:\n",
    "        y_train_3.append(1)\n",
    "    else:\n",
    "        y_train_3.append(-1)\n",
    "y_train_3 = np.array(y_train_3)"
   ]
  },
  {
   "cell_type": "code",
   "execution_count": 22,
   "metadata": {
    "id": "mS_Tx83vD5ma"
   },
   "outputs": [],
   "source": [
    "sol0 = train_svm(X_train, y_train_1, 'rb')\n",
    "alphas0 = np.array(sol0['x'])\n",
    "w0, b0 = get_parameters(X_train, y_train_1, alphas0)\n",
    "\n",
    "sol1 = train_svm(X_train, y_train_2, 'rb')\n",
    "alphas1 = np.array(sol1['x'])\n",
    "w1, b1 = get_parameters(X_train, y_train_2, alphas1)\n",
    "\n",
    "sol2 = train_svm(X_train, y_train_3, 'rb')\n",
    "alphas2 = np.array(sol2['x'])\n",
    "w2, b2 = get_parameters(X_train, y_train_3, alphas2)"
   ]
  },
  {
   "cell_type": "code",
   "execution_count": 23,
   "metadata": {
    "id": "hh5GkOUBESJh"
   },
   "outputs": [],
   "source": [
    "pred_test = []\n",
    "count = 0\n",
    "for data in X_test:\n",
    "    count += 1\n",
    "    data = data.reshape(1, -1)\n",
    "    res_0 = np.dot(data, w0) + b0\n",
    "    res_1 = np.dot(data, w1) + b1\n",
    "    res_2 = np.dot(data, w2) + b2\n",
    "\n",
    "    res_list = [res_0, res_1, res_2]\n",
    "    tmp = max(res_list)\n",
    "    index = res_list.index(tmp)\n",
    "    pred_test.append(index)\n",
    "\n",
    "pred_test = np.array(pred_test)"
   ]
  },
  {
   "cell_type": "code",
   "execution_count": 24,
   "metadata": {
    "colab": {
     "base_uri": "https://localhost:8080/",
     "height": 467
    },
    "id": "xxkcBOnnI36n",
    "outputId": "2167788c-fa81-44cc-a08b-d818cbb788b2"
   },
   "outputs": [
    {
     "name": "stdout",
     "output_type": "stream",
     "text": [
      "Test accuracy:  0.7272727272727273\n"
     ]
    },
    {
     "data": {
      "text/plain": [
       "<AxesSubplot:>"
      ]
     },
     "execution_count": 24,
     "metadata": {},
     "output_type": "execute_result"
    },
    {
     "data": {
      "image/png": "[encoded data removed]",
      "text/plain": [
       "<Figure size 720x504 with 2 Axes>"
      ]
     },
     "metadata": {
      "needs_background": "light"
     },
     "output_type": "display_data"
    }
   ],
   "source": [
    "print(\"Test accuracy: \", accuracy_score(y_test, pred_test))\n",
    "\n",
    "mat = confusion_matrix(y_test, pred_test)\n",
    "df_mat = pd.DataFrame(mat, index = [i for i in train_data.classes], columns = [j for j in train_data.classes])\n",
    "plt.figure(figsize = (10,7))\n",
    "sn.heatmap(df_mat, annot=True, cmap=\"YlGnBu\")"
   ]
  },
  {
   "cell_type": "code",
   "execution_count": 25,
   "metadata": {
    "id": "LCL6Ck_LJjeE"
   },
   "outputs": [],
   "source": [
    "from sklearn import svm, datasets\n",
    "from sklearn.metrics import roc_curve, auc\n",
    "from sklearn.model_selection import train_test_split\n",
    "from sklearn.preprocessing import label_binarize\n",
    "from sklearn.multiclass import OneVsRestClassifier\n",
    "from scipy import interp\n",
    "from itertools import cycle\n",
    "from sklearn.metrics import roc_auc_score\n",
    "\n",
    "# Learn to predict each class against the other\n",
    "classifier = OneVsRestClassifier(\n",
    "    svm.SVC(kernel=\"linear\", probability=True, random_state=0, C=10)\n",
    ")\n",
    "y_score = classifier.fit(X_train, y_train).decision_function(X_test)"
   ]
  },
  {
   "cell_type": "code",
   "execution_count": 26,
   "metadata": {
    "colab": {
     "base_uri": "https://localhost:8080/",
     "height": 332
    },
    "id": "6ciEUmkxmjNE",
    "outputId": "1adcba8c-c6a0-4eb6-aee4-9f15905ff9f0"
   },
   "outputs": [
    {
     "name": "stderr",
     "output_type": "stream",
     "text": [
      "/var/folders/5k/9cnbg8c917l1k8mldgxq2cmm0000gn/T/ipykernel_3108/2761096043.py:19: DeprecationWarning: scipy.interp is deprecated and will be removed in SciPy 2.0.0, use numpy.interp instead\n",
      "  mean_tpr += interp(all_fpr, fpr[i], tpr[i])\n"
     ]
    },
    {
     "data": {
      "image/png": "[encoded data removed]",
      "text/plain": [
       "<Figure size 432x288 with 1 Axes>"
      ]
     },
     "metadata": {
      "needs_background": "light"
     },
     "output_type": "display_data"
    }
   ],
   "source": [
    "# Compute ROC curve and ROC area for each class\n",
    "\n",
    "class_labels = ['Covid', 'Normal', 'Viral Pneumonia']\n",
    "y_test_2 = label_binarize(y_test, classes=[0, 1, 2])\n",
    "n_classes = y_test_2.shape[1]\n",
    "fpr = dict()\n",
    "tpr = dict()\n",
    "roc_auc = dict()\n",
    "for i in range(n_classes):\n",
    "    fpr[i], tpr[i], _ = roc_curve(y_test_2[:, i], y_score[:, i])\n",
    "    roc_auc[i] = auc(fpr[i], tpr[i])\n",
    "\n",
    "# First aggregate all false positive rates\n",
    "all_fpr = np.unique(np.concatenate([fpr[i] for i in range(n_classes)]))\n",
    "\n",
    "# Then interpolate all ROC curves at this points\n",
    "mean_tpr = np.zeros_like(all_fpr)\n",
    "for i in range(n_classes):\n",
    "    mean_tpr += interp(all_fpr, fpr[i], tpr[i])\n",
    "\n",
    "# Finally average it and compute AUC\n",
    "mean_tpr /= n_classes\n",
    "\n",
    "# Plot all ROC curves\n",
    "colors = cycle([\"aqua\", \"darkorange\", \"cornflowerblue\"])\n",
    "for i, color in zip(range(n_classes), colors):\n",
    "    plt.plot(\n",
    "        fpr[i],\n",
    "        tpr[i],\n",
    "        color=color,\n",
    "        lw=2,\n",
    "        label=\"ROC curve of {0} class (area = {1:0.2f})\".format(class_labels[i], roc_auc[i]),\n",
    "    )\n",
    "\n",
    "plt.plot([0, 1], [0, 1], \"k--\", lw=2)\n",
    "plt.xlim([0.0, 1.0])\n",
    "plt.ylim([0.0, 1.05])\n",
    "plt.xlabel(\"False Positive Rate\")\n",
    "plt.ylabel(\"True Positive Rate\")\n",
    "plt.title(\"ROC Curve of soft margin SVM for multiclass with linear kernel\")\n",
    "plt.legend(loc=\"lower right\")\n",
    "plt.show()"
   ]
  },
  {
   "cell_type": "code",
   "execution_count": null,
   "metadata": {},
   "outputs": [],
   "source": []
  }
 ],
 "metadata": {
  "accelerator": "GPU",
  "colab": {
   "collapsed_sections": [],
   "name": "image_data.ipynb",
   "provenance": []
  },
  "kernelspec": {
   "display_name": "Python 3 (ipykernel)",
   "language": "python",
   "name": "python3"
  },
  "language_info": {
   "codemirror_mode": {
    "name": "ipython",
    "version": 3
   },
   "file_extension": ".py",
   "mimetype": "text/x-python",
   "name": "python",
   "nbconvert_exporter": "python",
   "pygments_lexer": "ipython3",
   "version": "3.9.7"
  }
 },
 "nbformat": 4,
 "nbformat_minor": 1
}
